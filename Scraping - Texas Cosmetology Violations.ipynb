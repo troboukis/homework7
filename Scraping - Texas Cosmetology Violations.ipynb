{
 "cells": [
  {
   "cell_type": "markdown",
   "metadata": {},
   "source": [
    "# Texas Cosmetologist Violations\n",
    "\n",
    "Texas has a system for [searching for license violations](https://www.tdlr.texas.gov/cimsfo/fosearch.asp). You're going to search for cosmetologists!"
   ]
  },
  {
   "cell_type": "markdown",
   "metadata": {},
   "source": [
    "## Setup: Import what you'll need to scrape the page\n",
    "\n",
    "We'll be using Selenium for this, *not* BeautifulSoup and requests."
   ]
  },
  {
   "cell_type": "code",
   "execution_count": 1,
   "metadata": {},
   "outputs": [],
   "source": [
    "from selenium import webdriver\n",
    "from selenium.webdriver.common.keys import Keys\n",
    "from selenium.webdriver.support.ui import Select\n",
    "from selenium.webdriver.support.ui import WebDriverWait\n",
    "driver=webdriver.Chrome()"
   ]
  },
  {
   "cell_type": "markdown",
   "metadata": {
    "collapsed": true
   },
   "source": [
    "## Starting your search\n",
    "\n",
    "Starting from [here](https://www.tdlr.texas.gov/cimsfo/fosearch.asp), search for cosmetologist violations for people with the last name **Nguyen**."
   ]
  },
  {
   "cell_type": "code",
   "execution_count": 2,
   "metadata": {},
   "outputs": [],
   "source": [
    "driver.get('https://www.tdlr.texas.gov/cimsfo/fosearch.asp')"
   ]
  },
  {
   "cell_type": "code",
   "execution_count": 4,
   "metadata": {},
   "outputs": [],
   "source": [
    "name=driver.find_element_by_name('pht_lnm')\n",
    "name.send_keys('Nguyen')"
   ]
  },
  {
   "cell_type": "code",
   "execution_count": 6,
   "metadata": {},
   "outputs": [],
   "source": [
    "from selenium.webdriver.support.ui import Select\n",
    "select = Select(driver.find_element_by_name('pht_status'))\n",
    "select.select_by_visible_text('Cosmetologists')\n"
   ]
  },
  {
   "cell_type": "code",
   "execution_count": 7,
   "metadata": {},
   "outputs": [],
   "source": [
    "button = driver.find_element_by_name('B1')\n",
    "driver.execute_script(\"arguments[0].scrollIntoView(true)\", button)\n",
    "button.click()"
   ]
  },
  {
   "cell_type": "markdown",
   "metadata": {},
   "source": [
    "## Scraping\n",
    "\n",
    "Once you are on the results page, do this."
   ]
  },
  {
   "cell_type": "markdown",
   "metadata": {},
   "source": [
    "### Loop through each result and print the entire row\n",
    "\n",
    "Okay wait, that's a heck of a lot. Use `[:10]` to only do the first ten (`listname[:10]` gives you the first ten)."
   ]
  },
  {
   "cell_type": "code",
   "execution_count": 59,
   "metadata": {},
   "outputs": [
    {
     "name": "stdout",
     "output_type": "stream",
     "text": [
      "..........\n",
      "Name and Location Order Basis for Order\n",
      "..........\n",
      "NGUYEN, TOAN HUU\n",
      "City: SAN ANTONIO\n",
      "County: BEXAR\n",
      "Zip Code: 78217\n",
      "\n",
      "\n",
      "License #(s): 780948, 1706491, 1699123\n",
      "\n",
      "Complaint # COS20180004289 Date: 5/30/2018\n",
      "\n",
      "Respondent is assessed an administrative penalty in the amount of $500. Respondent failed to clean and sanitize whirlpool foot spas as required at the end of each day.\n",
      "..........\n",
      "NGUYEN, HANH CONG\n",
      "City: EL PASO\n",
      "County: EL PASO\n",
      "Zip Code: 79934\n",
      "\n",
      "\n",
      "License #: 737708\n",
      "\n",
      "Complaint # COS20180006594 Date: 5/30/2018\n",
      "\n",
      "Respondent is assessed an administrative penalty in the amount of $1,000. Respondent failed to clean and sanitize whirlpool foot spas as required at the end of each day; Respondent failed to use items subject to possible cross contamination in a manner that does not contaminate the remaining product.\n",
      "..........\n",
      "NGUYEN, KHIEM VAN\n",
      "City: LONGVIEW\n",
      "County: GREGG\n",
      "Zip Code: 75604\n",
      "\n",
      "\n",
      "License #: 731665\n",
      "\n",
      "Complaint # COS20180000257 Date: 5/17/2018\n",
      "\n",
      "Respondent is assessed an administrative penalty in the amount of $1,250. Respondent failed to follow whirlpool foot spas cleaning and sanitization procedures as required; Respondent failed to clean, disinfect, and sterilize manicure and pedicure implements after each use; Respondent failed to clean and disinfect all wax pots.\n",
      "..........\n",
      "NGUYEN, DIEP THI NGOC\n",
      "City: HOUSTON\n",
      "County: HARRIS\n",
      "Zip Code: 77014\n",
      "\n",
      "\n",
      "License #(s): 1347649, 760528\n",
      "\n",
      "Complaint # COS20180004915 Date: 5/17/2018\n",
      "\n",
      "Respondent is assessed an administrative penalty in the amount of $500. Respondent failed to disinfect tools, implements, and supplies with an EPA-registered disinfectant solution; Respondent failed to disinfect multi-use equipment, implements, and tools prior to use on each client.\n",
      "..........\n",
      "NGUYEN, LAN T-THUY\n",
      "City: SAN ANTONIO\n",
      "County: BEXAR\n",
      "Zip Code: 78255\n",
      "\n",
      "NGUYEN, SAMLOI\n",
      "City: SAN ANTONIO\n",
      "County: BEXAR\n",
      "Zip Code: 78255\n",
      "\n",
      "\n",
      "License #: 767339\n",
      "\n",
      "Complaint # COS20180009255 Date: 5/17/2018\n",
      "\n",
      "Respondent is assessed an administrative penalty in the amount of $575. Respondent failed to clean, disinfect, and sterilize manicure and pedicure implements after each use.\n",
      "..........\n",
      "NGUYEN, TUAN A\n",
      "City: AUSTIN\n",
      "County: TRAVIS\n",
      "Zip Code: 78723\n",
      "\n",
      "NGUYEN, TUAN VAN\n",
      "City: ARLINGTON\n",
      "County: TARRANT\n",
      "Zip Code: 76011\n",
      "\n",
      "\n",
      "License #: 681274\n",
      "\n",
      "Complaint # COS20140018343 Date: 5/9/2018\n",
      "\n",
      "Respondent is assessed an administrative penalty in the amount of $1,000. Respondent failed to clean and disinfect all wax pots; Respondent failed to disinfect tools, implements, and supplies with a hospital-grade EPA-registered disinfectant solution; Respondent failed to replace materials that contact skin, or skin products from multi-use containers, with new or clean articles for each client.\n",
      "..........\n",
      "NGUYEN, THAO B\n",
      "City: EULESS\n",
      "County: TARRANT\n",
      "Zip Code: 76039\n",
      "\n",
      "\n",
      "License #(s): 721373, 1142884\n",
      "\n",
      "Complaint # COS20180008846 Date: 5/9/2018\n",
      "\n",
      "Respondent is assessed an administrative penalty in the amount of $750. Respondent failed to clean and sanitize whirlpool foot spas as required at the end of each day.\n",
      "..........\n",
      "NGUYEN, BETH MARIA\n",
      "City: HOUSTON\n",
      "County: HARRIS\n",
      "Zip Code: 77083\n",
      "\n",
      "\n",
      "License #: 1470271\n",
      "\n",
      "Complaint # COS20180000897 Date: 4/30/2018\n",
      "\n",
      "Respondent's Cosmetology Operator license was revoked by operation of law on 03/29/16. The Respondent's license was revoked upon Respondent's imprisonment in a penitentiary.\n",
      "..........\n",
      "NGUYEN, TRUNG N\n",
      "City: AMARILLO\n",
      "County: POTTER\n",
      "Zip Code: 79106\n",
      "\n",
      "\n",
      "License #(s): 1196244, 767015, 767014\n",
      "\n",
      "Complaint # COS20170023893 Date: 4/25/2018\n",
      "\n",
      "Respondent is assessed an administrative penalty in the amount of $1,300. Respondent failed to clean, disinfect, and sterilize manicure and pedicure implements after each use.\n"
     ]
    }
   ],
   "source": [
    "results=driver.find_elements_by_tag_name('tr')\n",
    "for result in results[:10]:\n",
    "    print('..........')\n",
    "    print(result.text)"
   ]
  },
  {
   "cell_type": "markdown",
   "metadata": {},
   "source": [
    "### Loop through each result and print each person's name\n",
    "\n",
    "You'll get an error because the first one doesn't have a name. How do you make that not happen?! If you want to ignore an error, you use code like this:\n",
    "\n",
    "```python\n",
    "try:\n",
    "   try to do something\n",
    "except:\n",
    "   print(\"It didn't work')\n",
    "```\n",
    "\n",
    "It should help you out. If you don't want to print anything, you can type `pass` instead of the `print` statement.\n",
    "\n",
    "**Why doesn't the first one have a name?**"
   ]
  },
  {
   "cell_type": "code",
   "execution_count": 82,
   "metadata": {},
   "outputs": [
    {
     "name": "stdout",
     "output_type": "stream",
     "text": [
      "It didn't work\n",
      "NGUYEN, TOAN HUU\n",
      "NGUYEN, HANH CONG\n",
      "NGUYEN, KHIEM VAN\n",
      "NGUYEN, DIEP THI NGOC\n",
      "NGUYEN, LAN T-THUY\n",
      "NGUYEN, TUAN A\n",
      "NGUYEN, THAO B\n",
      "NGUYEN, BETH MARIA\n",
      "NGUYEN, TRUNG N\n"
     ]
    }
   ],
   "source": [
    "results=driver.find_elements_by_tag_name('tr')\n",
    "for result in results[:10]:\n",
    "    names=result.find_elements_by_class_name('results_text')\n",
    "    try:\n",
    "        print(names[0].text)\n",
    "    except:\n",
    "        print(\"It didn't work\")\n",
    "  "
   ]
  },
  {
   "cell_type": "code",
   "execution_count": null,
   "metadata": {},
   "outputs": [],
   "source": []
  },
  {
   "cell_type": "markdown",
   "metadata": {},
   "source": [
    "## Loop through each result, printing each violation description (\"Basis for order\")\n",
    "\n",
    "> - *Tip: You'll get an error even if you're ALMOST right - which row is causing the problem?*\n",
    "> - *Tip: You can get the HTML of something by doing `.get_attribute('innerHTML')` - it might help you diagnose your issue.*\n",
    "> - *Tip: Or I guess you could just skip the one with the problem..."
   ]
  },
  {
   "cell_type": "code",
   "execution_count": 98,
   "metadata": {},
   "outputs": [
    {
     "name": "stdout",
     "output_type": "stream",
     "text": [
      "nope\n",
      "Respondent failed to clean and sanitize whirlpool foot spas as required at the end of each day.\n",
      "Respondent failed to clean and sanitize whirlpool foot spas as required at the end of each day; Respondent failed to use items subject to possible cross contamination in a manner that does not contaminate the remaining product.\n",
      "Respondent failed to follow whirlpool foot spas cleaning and sanitization procedures as required; Respondent failed to clean, disinfect, and sterilize manicure and pedicure implements after each use; Respondent failed to clean and disinfect all wax pots.\n",
      "Respondent failed to disinfect tools, implements, and supplies with an EPA-registered disinfectant solution; Respondent failed to disinfect multi-use equipment, implements, and tools prior to use on each client.\n",
      "Respondent failed to clean, disinfect, and sterilize manicure and pedicure implements after each use.\n",
      "Respondent failed to clean and disinfect all wax pots; Respondent failed to disinfect tools, implements, and supplies with a hospital-grade EPA-registered disinfectant solution; Respondent failed to replace materials that contact skin, or skin products from multi-use containers, with new or clean articles for each client.\n",
      "Respondent failed to clean and sanitize whirlpool foot spas as required at the end of each day.\n",
      "The Respondent's license was revoked upon Respondent's imprisonment in a penitentiary.\n",
      "Respondent failed to clean, disinfect, and sterilize manicure and pedicure implements after each use.\n"
     ]
    }
   ],
   "source": [
    "results=driver.find_elements_by_tag_name('tr')\n",
    "for result in results[:10]:\n",
    "    description=result.find_elements_by_tag_name('td')\n",
    "    try:\n",
    "        print(description[2].text)\n",
    "    except:\n",
    "        print('nope')"
   ]
  },
  {
   "cell_type": "markdown",
   "metadata": {},
   "source": [
    "## Loop through each result, printing the complaint number\n",
    "\n",
    "- TIP: Think about the order of the elements"
   ]
  },
  {
   "cell_type": "code",
   "execution_count": 108,
   "metadata": {},
   "outputs": [
    {
     "name": "stdout",
     "output_type": "stream",
     "text": [
      "It didn't work\n",
      "COS20180004289\n",
      "COS20180006594\n",
      "COS20180000257\n",
      "COS20180004915\n",
      "COS20180009255\n",
      "COS20140018343\n",
      "COS20180008846\n",
      "COS20180000897\n",
      "COS20170023893\n"
     ]
    }
   ],
   "source": [
    "results=driver.find_elements_by_tag_name('tr')\n",
    "for result in results[:10]:\n",
    "    names=result.find_elements_by_class_name('results_text')\n",
    "    try:\n",
    "        print(names[-2].text)\n",
    "    except:\n",
    "        print(\"It didn't work\")\n",
    "  "
   ]
  },
  {
   "cell_type": "markdown",
   "metadata": {},
   "source": [
    "## Saving the results\n",
    "\n",
    "### Loop through each result to create a list of dictionaries\n",
    "\n",
    "Each dictionary must contain\n",
    "\n",
    "- Person's name\n",
    "- Violation description\n",
    "- Violation number\n",
    "- License Numbers\n",
    "- Zip Code\n",
    "- County\n",
    "- City\n",
    "\n",
    "Create a new dictionary for each result (except the header).\n",
    "\n",
    "> *Tip: If you want to ask for the \"next sibling,\" you can't use `find_next_sibling` in Selenium, you need to use `element.find_element_by_xpath(\"following-sibling::div\")` to find the next div, or `element.find_element_by_xpath(\"following-sibling::*\")` to find the next anything."
   ]
  },
  {
   "cell_type": "code",
   "execution_count": 174,
   "metadata": {},
   "outputs": [
    {
     "name": "stdout",
     "output_type": "stream",
     "text": [
      "It didn't work\n"
     ]
    }
   ],
   "source": [
    "violations=[]\n",
    "results=driver.find_elements_by_tag_name('tr')\n",
    "for result in results[:10]:\n",
    "    cosmetologists={}\n",
    "    try:\n",
    "        names=result.find_elements_by_class_name('results_text')\n",
    "        description=result.find_elements_by_tag_name('td')\n",
    "\n",
    "\n",
    "        cosmetologists['name']=names[0].text\n",
    "        cosmetologists['violation_description']=description[2].text\n",
    "        cosmetologists['violation_number']=names[-2].text\n",
    "        cosmetologists['License_Number']=names[-3].text\n",
    "        cosmetologists['ZIP_code']=names[3].text\n",
    "        cosmetologists['county']=names[2].text\n",
    "        cosmetologists['city']=names[1].text\n",
    "\n",
    "\n",
    "        violations.append(cosmetologists)\n",
    "    except:\n",
    "        print(\"It didn't work\")\n",
    "        \n",
    "    "
   ]
  },
  {
   "cell_type": "markdown",
   "metadata": {},
   "source": [
    "### Save that to a CSV\n",
    "\n",
    "- Tip: You'll want to use pandas here"
   ]
  },
  {
   "cell_type": "code",
   "execution_count": 178,
   "metadata": {},
   "outputs": [],
   "source": [
    "import pandas as pd\n",
    "%matplotlib inline\n",
    "df=pd.DataFrame(violations)\n",
    "df.to_csv(\"violations_cosmetologists\", index=False)"
   ]
  },
  {
   "cell_type": "code",
   "execution_count": null,
   "metadata": {},
   "outputs": [],
   "source": []
  },
  {
   "cell_type": "code",
   "execution_count": null,
   "metadata": {},
   "outputs": [],
   "source": []
  },
  {
   "cell_type": "markdown",
   "metadata": {},
   "source": [
    "### Open the CSV file and examine the first few. Make sure you didn't save an extra weird unnamed column."
   ]
  },
  {
   "cell_type": "code",
   "execution_count": 179,
   "metadata": {},
   "outputs": [
    {
     "data": {
      "text/html": [
       "<div>\n",
       "<style scoped>\n",
       "    .dataframe tbody tr th:only-of-type {\n",
       "        vertical-align: middle;\n",
       "    }\n",
       "\n",
       "    .dataframe tbody tr th {\n",
       "        vertical-align: top;\n",
       "    }\n",
       "\n",
       "    .dataframe thead th {\n",
       "        text-align: right;\n",
       "    }\n",
       "</style>\n",
       "<table border=\"1\" class=\"dataframe\">\n",
       "  <thead>\n",
       "    <tr style=\"text-align: right;\">\n",
       "      <th></th>\n",
       "      <th>License_Number</th>\n",
       "      <th>ZIP_code</th>\n",
       "      <th>city</th>\n",
       "      <th>county</th>\n",
       "      <th>name</th>\n",
       "      <th>violation_description</th>\n",
       "      <th>violation_number</th>\n",
       "    </tr>\n",
       "  </thead>\n",
       "  <tbody>\n",
       "    <tr>\n",
       "      <th>0</th>\n",
       "      <td>780948, 1706491, 1699123</td>\n",
       "      <td>78217</td>\n",
       "      <td>SAN ANTONIO</td>\n",
       "      <td>BEXAR</td>\n",
       "      <td>NGUYEN, TOAN HUU</td>\n",
       "      <td>Respondent failed to clean and sanitize whirlp...</td>\n",
       "      <td>COS20180004289</td>\n",
       "    </tr>\n",
       "    <tr>\n",
       "      <th>1</th>\n",
       "      <td>737708</td>\n",
       "      <td>79934</td>\n",
       "      <td>EL PASO</td>\n",
       "      <td>EL PASO</td>\n",
       "      <td>NGUYEN, HANH CONG</td>\n",
       "      <td>Respondent failed to clean and sanitize whirlp...</td>\n",
       "      <td>COS20180006594</td>\n",
       "    </tr>\n",
       "    <tr>\n",
       "      <th>2</th>\n",
       "      <td>731665</td>\n",
       "      <td>75604</td>\n",
       "      <td>LONGVIEW</td>\n",
       "      <td>GREGG</td>\n",
       "      <td>NGUYEN, KHIEM VAN</td>\n",
       "      <td>Respondent failed to follow whirlpool foot spa...</td>\n",
       "      <td>COS20180000257</td>\n",
       "    </tr>\n",
       "    <tr>\n",
       "      <th>3</th>\n",
       "      <td>1347649, 760528</td>\n",
       "      <td>77014</td>\n",
       "      <td>HOUSTON</td>\n",
       "      <td>HARRIS</td>\n",
       "      <td>NGUYEN, DIEP THI NGOC</td>\n",
       "      <td>Respondent failed to disinfect tools, implemen...</td>\n",
       "      <td>COS20180004915</td>\n",
       "    </tr>\n",
       "    <tr>\n",
       "      <th>4</th>\n",
       "      <td>767339</td>\n",
       "      <td>78255</td>\n",
       "      <td>SAN ANTONIO</td>\n",
       "      <td>BEXAR</td>\n",
       "      <td>NGUYEN, LAN T-THUY</td>\n",
       "      <td>Respondent failed to clean, disinfect, and ste...</td>\n",
       "      <td>COS20180009255</td>\n",
       "    </tr>\n",
       "  </tbody>\n",
       "</table>\n",
       "</div>"
      ],
      "text/plain": [
       "             License_Number ZIP_code         city   county  \\\n",
       "0  780948, 1706491, 1699123    78217  SAN ANTONIO    BEXAR   \n",
       "1                    737708    79934      EL PASO  EL PASO   \n",
       "2                    731665    75604     LONGVIEW    GREGG   \n",
       "3           1347649, 760528    77014      HOUSTON   HARRIS   \n",
       "4                    767339    78255  SAN ANTONIO    BEXAR   \n",
       "\n",
       "                    name                              violation_description  \\\n",
       "0       NGUYEN, TOAN HUU  Respondent failed to clean and sanitize whirlp...   \n",
       "1      NGUYEN, HANH CONG  Respondent failed to clean and sanitize whirlp...   \n",
       "2      NGUYEN, KHIEM VAN  Respondent failed to follow whirlpool foot spa...   \n",
       "3  NGUYEN, DIEP THI NGOC  Respondent failed to disinfect tools, implemen...   \n",
       "4     NGUYEN, LAN T-THUY  Respondent failed to clean, disinfect, and ste...   \n",
       "\n",
       "  violation_number  \n",
       "0   COS20180004289  \n",
       "1   COS20180006594  \n",
       "2   COS20180000257  \n",
       "3   COS20180004915  \n",
       "4   COS20180009255  "
      ]
     },
     "execution_count": 179,
     "metadata": {},
     "output_type": "execute_result"
    }
   ],
   "source": [
    "df.head()"
   ]
  },
  {
   "cell_type": "code",
   "execution_count": null,
   "metadata": {},
   "outputs": [],
   "source": []
  }
 ],
 "metadata": {
  "kernelspec": {
   "display_name": "Python 3",
   "language": "python",
   "name": "python3"
  },
  "language_info": {
   "codemirror_mode": {
    "name": "ipython",
    "version": 3
   },
   "file_extension": ".py",
   "mimetype": "text/x-python",
   "name": "python",
   "nbconvert_exporter": "python",
   "pygments_lexer": "ipython3",
   "version": "3.6.4"
  }
 },
 "nbformat": 4,
 "nbformat_minor": 2
}
