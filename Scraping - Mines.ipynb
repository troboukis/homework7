{
 "cells": [
  {
   "cell_type": "markdown",
   "metadata": {},
   "source": [
    "# Mine Safety\n",
    "\n",
    "We're interested in [US mine safety](https://arlweb.msha.gov/drs/drshome.htm), thank goodness we can search for these things."
   ]
  },
  {
   "cell_type": "markdown",
   "metadata": {},
   "source": [
    "## Setup: Import what you'll need to search and scrape and Selenium"
   ]
  },
  {
   "cell_type": "code",
   "execution_count": 7,
   "metadata": {},
   "outputs": [],
   "source": [
    "from selenium import webdriver\n",
    "from selenium.webdriver.common.keys import Keys\n",
    "from selenium.webdriver.support.ui import Select\n",
    "from selenium.webdriver.support.ui import WebDriverWait\n",
    "driver=webdriver.Chrome()\n",
    "driver.get('https://arlweb.msha.gov/drs/drshome.htm')"
   ]
  },
  {
   "cell_type": "markdown",
   "metadata": {},
   "source": [
    "## Starting from `https://arlweb.msha.gov/drs/drshome.htm`, search for every operator with 'dirt' in their name, including abandoned mines.\n",
    "\n",
    "> - *Tip: If you can't make an element work using name, class or ID, try to use the XPath*"
   ]
  },
  {
   "cell_type": "code",
   "execution_count": 8,
   "metadata": {},
   "outputs": [],
   "source": [
    "op_name=driver.find_element_by_name(\"OperSearch\")"
   ]
  },
  {
   "cell_type": "code",
   "execution_count": 9,
   "metadata": {},
   "outputs": [],
   "source": [
    "op_name.send_keys('dirt')"
   ]
  },
  {
   "cell_type": "code",
   "execution_count": 10,
   "metadata": {},
   "outputs": [],
   "source": [
    "button = driver.find_element_by_name('Abandoned')\n",
    "driver.execute_script(\"arguments[0].scrollIntoView(true)\", button)\n",
    "button.click()"
   ]
  },
  {
   "cell_type": "code",
   "execution_count": 11,
   "metadata": {},
   "outputs": [],
   "source": [
    "button = driver.find_element_by_xpath('//*[@id=\"content\"]/form[1]/table/tbody/tr[7]/td[3]/input[1]')\n",
    "driver.execute_script(\"arguments[0].scrollIntoView(true)\", button)\n",
    "button.click()"
   ]
  },
  {
   "cell_type": "markdown",
   "metadata": {},
   "source": [
    "## Scrape the results page, saving it as `dirt-operators.csv`\n",
    "\n",
    "> - *Tip: Think about what each row in your dataset will be, and start by looping through that*\n",
    "> - *Tip: Printing is cool and good! Print everything! Move it into a dictionary later.*\n",
    "> - *Tip: If you don't want a row, think about what's in the row that makes it different. You can use an `if` statement or list slicing to skip the ones you aren't interested in.*\n",
    "> - *Tip: Make sure your dictionary and your loop variable have DIFFERENT NAMES*\n",
    "> - *Tip: After you've made your dictionary (and printed it, of course), you'll want to add it to your list of rows*\n",
    "> - *Tip: Be sure to import pandas to convert it to a dataframe*\n",
    "> - *Tip: Make sure you don't include the index when saving your dataframe*"
   ]
  },
  {
   "cell_type": "markdown",
   "metadata": {},
   "source": [
    "### Hopefully you know that each `tr` is supposed to be a row of your data. What is the index of the first row element that is actually a result?\n",
    "\n",
    "> - *Tip: `.text` will help you here.*\n",
    "> - *Tip: You aren't interesting in annotations or anything, just mines and where they are from*\n",
    "> - *Tip: Using `print(\"-----\")` will help you keep track of different rows*\n",
    "> - *Tip: If you have a list called `animals`, `animals[2:]` will skip the first two and start with the third. You can use this to skip ahead to the 'good' data if you want*"
   ]
  },
  {
   "cell_type": "code",
   "execution_count": 64,
   "metadata": {
    "scrolled": true
   },
   "outputs": [],
   "source": [
    "results=driver.find_elements_by_tag_name('tr')\n",
    "rows=[]\n",
    "for dirt in results[7:-1]:\n",
    "    first_result=dirt.text\n",
    "    rows.append(first_result)\n",
    "    \n",
    "    "
   ]
  },
  {
   "cell_type": "code",
   "execution_count": 65,
   "metadata": {},
   "outputs": [
    {
     "name": "stdout",
     "output_type": "stream",
     "text": [
      "This is the first row that is actually a result:  3503598\n",
      "OR  Newberg Rock & Dirt   Newberg Rock & Dirt Surface M  Active  Crushed, Broken Stone NEC \n"
     ]
    }
   ],
   "source": [
    "print(\"This is the first row that is actually a result: \", rows[0])"
   ]
  },
  {
   "cell_type": "code",
   "execution_count": null,
   "metadata": {},
   "outputs": [],
   "source": []
  },
  {
   "cell_type": "markdown",
   "metadata": {},
   "source": [
    "### Loop through each operator result, printing its name\n",
    "\n",
    "> - *Tip: If you have a list called `animals`, `animals[2:]` will skip the first two and start with the third.*\n",
    "> - *Tip: You can use list slicing or an `if` statement to skip the non-data row(s). List slicing is probably easier, even if you aren't comfortable with it.*\n",
    "> - *Tip: or honestly you can use `try` and `except` if you know how it works.*\n",
    "> - *Tip: Once you have the \"right\" rows of data, you're going to be looking for a certain tag inside*\n",
    "> - *Tip: Sometimes you can't say \"give me this class,\" and instead you have to say \"give me all of the `div` elements, and then give me the third one.\"*"
   ]
  },
  {
   "cell_type": "code",
   "execution_count": 78,
   "metadata": {},
   "outputs": [
    {
     "name": "stdout",
     "output_type": "stream",
     "text": [
      "Operator:  Newberg Rock & Dirt  \n",
      "Operator:  Allied Dirt Moving Company  \n",
      "Operator:  AM Dirtworks & Aggregate Sales  \n",
      "Operator:  Atlas-Dirty Devil Mining  \n",
      "Operator:  Atlas-Dirty Devil Mining  \n",
      "Operator:  Babe's Dirt Work  \n",
      "Operator:  Bar-Lin Dirt Company  \n",
      "Operator:  Barber'S Dirt Pit  \n",
      "Operator:  Bender Sand & Dirt  \n",
      "Operator:  BERT'S DIRT  \n",
      "Operator:  Big D Dirt Service Inc  \n",
      "Operator:  Big Red Dirt Farm LLC  \n",
      "Operator:  Big River Dirt Pit  \n",
      "Operator:  Bob Harris Dirt Contracting  \n",
      "Operator:  Bohannon Sand & Dirt  \n",
      "Operator:  Bratcher'S Sand & Dirt  \n",
      "Operator:  Brewer Dirt Works  \n",
      "Operator:  Buck'S Dirt Pit  \n",
      "Operator:  C & G Dirt Hauling  \n",
      "Operator:  C N C Dirt Movers, Inc.  \n",
      "Operator:  Cambridge Dirt Sand and Gravel LLC  \n",
      "Operator:  Central Iowa Dirt & Demo LLC  \n",
      "Operator:  Crowes Trucking & Dirt Pit Services  \n",
      "Operator:  D & H Dirt  \n",
      "Operator:  Diez Dirt & Sand Hauling Inc  \n",
      "Operator:  Dirt Cheap  \n",
      "Operator:  Dirt Company  \n",
      "Operator:  Dirt Company  \n",
      "Operator:  Dirt Company  \n",
      "Operator:  Dirt Con  \n",
      "Operator:  Dirt Diggers Inc  \n",
      "Operator:  Dirt Doctor Inc  \n",
      "Operator:  Dirt Inc  \n",
      "Operator:  Dirt Pit  \n",
      "Operator:  Dirt Work Specialists LLC  \n",
      "Operator:  Dirt Works  \n",
      "Operator:  Dirtco Inc  \n",
      "Operator:  Dirtman Trucking  \n",
      "Operator:  DIRTWORKS, INC.  \n",
      "Operator:  Dirtworks, Inc.  \n",
      "Operator:  Dirty Coal  \n",
      "Operator:  Dorchester Dirt Company Inc  \n",
      "Operator:  Douglas Dirt Sand & Gravel Company  \n",
      "Operator:  Ell Dirt Works LLC.  \n",
      "Operator:  Floyd Smith Dirt Pit  \n",
      "Operator:  Gary Kelm Dirt Service  \n",
      "Operator:  Gerald Fenger/Rock & Dirt Const  \n",
      "Operator:  Gerald Illies Gravel & Dirt Company  \n",
      "Operator:  Guidry Sand & Dirt Pit Inc  \n",
      "Operator:  Harris Dirt Company Inc  \n",
      "Operator:  Hatchet Creek Rock & Dirt LLC  \n",
      "Operator:  Holley Dirt Company, Inc  \n",
      "Operator:  Iske Dirt Sand & Gravel  \n",
      "Operator:  J M Lynn Dirtwork  \n",
      "Operator:  Jake Diel Dirt & Paving Inc  \n",
      "Operator:  Jake Diel Dirt & Paving Inc  \n",
      "Operator:  Jake Diel Dirt & Paving Inc  \n",
      "Operator:  Jake Diel Dirt & Paving Inc  \n",
      "Operator:  Jake Diel Dirt & Paving Inc  \n",
      "Operator:  Jake Diel Dirt & Paving Inc  \n",
      "Operator:  Jake Diel Dirt & Paving Inc  \n",
      "Operator:  Jake Diel Dirt & Paving Inc  \n",
      "Operator:  Jarratt Dirt Work and Paving, Inc.  \n",
      "Operator:  JBS DIRT, INC.  \n",
      "Operator:  Jones Bros Dirt & Paving Contractors Inc  \n",
      "Operator:  Krueger Brothers Gravel & Dirt  \n",
      "Operator:  Krueger Dirt Werx, Inc.  \n",
      "Operator:  L I P Dirt & Trucking  \n",
      "Operator:  Lee'S Dirt Pit Inc  \n",
      "Operator:  Little-G-Dirt Pit  \n",
      "Operator:  Lone Star Dirt & Paving  \n",
      "Operator:  Loyd'S Dirt & Gravel  \n",
      "Operator:  M R Dirt  \n",
      "Operator:  M.C. Dirt LLC  \n",
      "Operator:  M.R. Dirt Inc.  \n",
      "Operator:  Maurice Dirt & Sand  \n",
      "Operator:  Mc Dirt Industries Inc  \n",
      "Operator:  Mike Duhon Dirt Pit  \n",
      "Operator:  Mike Duhon Dirt Pit  \n",
      "Operator:  Mike Duhon Dirt Pit  \n",
      "Operator:  Moss Dirt Company  \n",
      "Operator:  Moss Dirt Company  \n",
      "Operator:  Muckler Fill Dirt & Top Soil  \n",
      "Operator:  Nelson & Sons Dirt Haulers Inc  \n",
      "Operator:  Nelson'S Dirt Pit  \n",
      "Operator:  Nicholson Dirt Contracting  \n",
      "Operator:  Nitty Gritty Dirt LLC  \n",
      "Operator:  Northest Louisiana Dirt Contractors  \n",
      "Operator:  Orvil Carter Dirt Contractor Inc  \n",
      "Operator:  Orvil Carter Dirt Contractor Inc  \n",
      "Operator:  P B Dirt Movers Inc  \n",
      "Operator:  P B Dirt Movers Inc  \n",
      "Operator:  P B Dirt Movers Inc  \n",
      "Operator:  P B Dirt Movers Inc  \n",
      "Operator:  P B Dirt Movers Inc  \n",
      "Operator:  P B Dirt Movers Inc.  \n",
      "Operator:  P B Dirt Movers, Inc  \n",
      "Operator:  P B Dirt Movers, Inc.  \n",
      "Operator:  P.B. Dirtmovers  \n",
      "Operator:  PAPA'S DIRT WORKES  \n",
      "Operator:  Paydirt Exc Inc  \n",
      "Operator:  PB Dirt Movers  \n",
      "Operator:  PB Dirt Movers Inc.  \n",
      "Operator:  PB Dirt Movers, Inc  \n",
      "Operator:  Peveto Dirt Pit  \n",
      "Operator:  Phil-Dirt Industries, Inc  \n",
      "Operator:  Prescott Dirt, LLC  \n",
      "Operator:  R & R Dirtworks  \n",
      "Operator:  R D Blankenship Dirt Work LLC  \n",
      "Operator:  Reeves Dirt Pit Inc  \n",
      "Operator:  River Bottom Dirt  \n",
      "Operator:  Roe'S Dirt Pit  \n",
      "Operator:  Russell Trest-Dirt Contractor  \n",
      "Operator:  S J Stahr Dirt Movers Inc  \n",
      "Operator:  Sand & Dirt, Inc  \n",
      "Operator:  Sand and Dirt, Inc.  \n",
      "Operator:  Sierra Rock & Dirt, Inc.  \n",
      "Operator:  Simpson Dirtworx llc  \n",
      "Operator:  SIMPSON DIRTWORX LLC  \n",
      "Operator:  SIMPSON DIRTWORX LLC  \n",
      "Operator:  Slay'S Dirt Hauling  \n",
      "Operator:  Southside Dirt Company  \n",
      "Operator:  Spry's Dirt & Gravel, Inc.  \n",
      "Operator:  Stewart Dirt Pit  \n",
      "Operator:  Stewart Dirt Work, Inc.  \n",
      "Operator:  Sweat'S Dirt Hauling Inc  \n",
      "Operator:  Toler Roe Dirt Pit  \n",
      "Operator:  Tres Palacios Dirt, Sand & Gravel  \n",
      "Operator:  Vogt Dirt Service  \n",
      "Operator:  Watson Dirt Sand & Gravel Pit Inc  \n",
      "Operator:  Y B Dirt & Loam  \n",
      "Operator:  Yarbrough Dirt Pit Inc  \n"
     ]
    }
   ],
   "source": [
    "results=driver.find_elements_by_tag_name('tr')\n",
    "for dirt in results[7:-1]:\n",
    "    operators=dirt.find_elements_by_tag_name('td')\n",
    "    print(\"Operator: \", operators[2].text)"
   ]
  },
  {
   "cell_type": "code",
   "execution_count": null,
   "metadata": {
    "scrolled": true
   },
   "outputs": [],
   "source": []
  },
  {
   "cell_type": "markdown",
   "metadata": {},
   "source": [
    "### Loop through each operator result, printing its ID\n",
    "\n",
    "There should be ONE code per row, and NO empty rows between them."
   ]
  },
  {
   "cell_type": "code",
   "execution_count": 81,
   "metadata": {},
   "outputs": [
    {
     "name": "stdout",
     "output_type": "stream",
     "text": [
      "ID_:  3503598\n",
      "ID_:  0502030\n",
      "ID_:  4801789\n",
      "ID_:  4201449\n",
      "ID_:  4201450\n",
      "ID_:  1002257\n",
      "ID_:  1601167\n",
      "ID_:  4103265\n",
      "ID_:  1401575\n",
      "ID_:  1700776\n",
      "ID_:  1601251\n",
      "ID_:  0301963\n",
      "ID_:  1601082\n",
      "ID_:  3401751\n",
      "ID_:  1600916\n",
      "ID_:  3401211\n",
      "ID_:  0301267\n",
      "ID_:  1600956\n",
      "ID_:  2200033\n",
      "ID_:  0504953\n",
      "ID_:  3401929\n",
      "ID_:  1302445\n",
      "ID_:  1601106\n",
      "ID_:  3400915\n",
      "ID_:  1600983\n",
      "ID_:  4503200\n",
      "ID_:  3401266\n",
      "ID_:  3401468\n",
      "ID_:  5001797\n",
      "ID_:  4608254\n",
      "ID_:  1510279\n",
      "ID_:  2103723\n",
      "ID_:  0100776\n",
      "ID_:  4104016\n",
      "ID_:  2103914\n",
      "ID_:  4104757\n",
      "ID_:  0301729\n",
      "ID_:  0404851\n",
      "ID_:  2200734\n",
      "ID_:  5002028\n",
      "ID_:  1513393\n",
      "ID_:  3800602\n",
      "ID_:  3101630\n",
      "ID_:  3200860\n",
      "ID_:  3401762\n",
      "ID_:  2103517\n",
      "ID_:  2402626\n",
      "ID_:  2103181\n",
      "ID_:  1601124\n",
      "ID_:  1601150\n",
      "ID_:  4703427\n",
      "ID_:  0801306\n",
      "ID_:  2501216\n",
      "ID_:  3200965\n",
      "ID_:  2901371\n",
      "ID_:  2901544\n",
      "ID_:  2901709\n",
      "ID_:  4102355\n",
      "ID_:  4102420\n",
      "ID_:  4102869\n",
      "ID_:  4102951\n",
      "ID_:  4102958\n",
      "ID_:  4104876\n",
      "ID_:  3003502\n",
      "ID_:  4103258\n",
      "ID_:  3901432\n",
      "ID_:  2103556\n",
      "ID_:  1601250\n",
      "ID_:  1600908\n",
      "ID_:  1600953\n",
      "ID_:  4104185\n",
      "ID_:  2901536\n",
      "ID_:  3609624\n",
      "ID_:  3800709\n",
      "ID_:  3609931\n",
      "ID_:  1601257\n",
      "ID_:  0801275\n",
      "ID_:  1601379\n",
      "ID_:  1601380\n",
      "ID_:  1601381\n",
      "ID_:  1601134\n",
      "ID_:  1601165\n",
      "ID_:  3901042\n",
      "ID_:  1601194\n",
      "ID_:  4104054\n",
      "ID_:  4801674\n",
      "ID_:  2402474\n",
      "ID_:  1600920\n",
      "ID_:  4102955\n",
      "ID_:  4103107\n",
      "ID_:  1512530\n",
      "ID_:  1515619\n",
      "ID_:  1518318\n",
      "ID_:  4405366\n",
      "ID_:  4407196\n",
      "ID_:  1519685\n",
      "ID_:  1519799\n",
      "ID_:  4407379\n",
      "ID_:  4407003\n",
      "ID_:  2602570\n",
      "ID_:  2402503\n",
      "ID_:  4407296\n",
      "ID_:  1519273\n",
      "ID_:  4407270\n",
      "ID_:  4102682\n",
      "ID_:  0801259\n",
      "ID_:  0203332\n",
      "ID_:  0302015\n",
      "ID_:  2901986\n",
      "ID_:  1601127\n",
      "ID_:  4105017\n",
      "ID_:  1600986\n",
      "ID_:  4103324\n",
      "ID_:  4202013\n",
      "ID_:  0801417\n",
      "ID_:  0801371\n",
      "ID_:  2402115\n",
      "ID_:  4300748\n",
      "ID_:  4300768\n",
      "ID_:  4300776\n",
      "ID_:  0103209\n",
      "ID_:  1601159\n",
      "ID_:  2302283\n",
      "ID_:  4102586\n",
      "ID_:  4104475\n",
      "ID_:  3800617\n",
      "ID_:  1601234\n",
      "ID_:  4104648\n",
      "ID_:  2103518\n",
      "ID_:  1601292\n",
      "ID_:  4103429\n",
      "ID_:  4103264\n"
     ]
    }
   ],
   "source": [
    "results=driver.find_elements_by_tag_name('tr')\n",
    "for dirt in results[7:-1]:\n",
    "    ids=dirt.find_elements_by_tag_name('td')\n",
    "    print(\"ID_: \", ids[0].text)"
   ]
  },
  {
   "cell_type": "markdown",
   "metadata": {},
   "source": [
    "## Saving the results\n",
    "\n",
    "### Loop through each `tr` to create a list of dictionaries\n",
    "\n",
    "Each dictionary must contain\n",
    "\n",
    "- Operator ID\n",
    "- Operator name\n",
    "- Mine name\n",
    "- State\n",
    "- Mine type\n",
    "- Coal or metal\n",
    "- Status\n",
    "- Commodity\n",
    "\n",
    "Create a new dictionary for each row.\n",
    "\n",
    "> - *Tip: Start with an empty dictionary, then add the keys one at a time like we did during class*\n",
    "> - *Tip: You might want to save all of the cells in a variable, then use indexes to get the second, third, fourth, etc.*\n",
    "> - *Tip: I know you already skipped a bunch of rows already, but one of them still might be bad! Which one is it? How can you skip it? You might need to slice out some of the end of your list, too. Use `print` to help you debug, or just look at the page closely.*\n",
    "> - *Tip: Or, if you did the other homework already, `try` / `except` is also an option*"
   ]
  },
  {
   "cell_type": "code",
   "execution_count": 82,
   "metadata": {
    "scrolled": true
   },
   "outputs": [],
   "source": [
    "results=driver.find_elements_by_tag_name('tr')\n",
    "rows=[]\n",
    "for dirt in results[7:-1]:\n",
    "    dic_dirt={}\n",
    "    infos=dirt.find_elements_by_tag_name('td')\n",
    "    dic_dirt['Operator_id']=infos[0].text\n",
    "    dic_dirt['State']=infos[1].text\n",
    "    dic_dirt['Operator_name']=infos[2].text\n",
    "    dic_dirt['Mine_Name']=infos[3].text\n",
    "    dic_dirt['Mine_type']=infos[4].text\n",
    "    dic_dirt['Coal_or_Metal']=infos[5].text\n",
    "    dic_dirt['Status']=infos[6].text\n",
    "    dic_dirt['Commodity']=infos[7].text\n",
    "    rows.append(dic_dirt)"
   ]
  },
  {
   "cell_type": "markdown",
   "metadata": {},
   "source": [
    "### Save that to a CSV named `dirt-operators.csv`"
   ]
  },
  {
   "cell_type": "code",
   "execution_count": 83,
   "metadata": {},
   "outputs": [],
   "source": [
    "import pandas as pd\n",
    "%matplotlib inline\n",
    "df=pd.DataFrame(rows)"
   ]
  },
  {
   "cell_type": "code",
   "execution_count": 84,
   "metadata": {},
   "outputs": [],
   "source": [
    "df.to_csv(\"dirt_operators.csv\", index=False)"
   ]
  },
  {
   "cell_type": "code",
   "execution_count": null,
   "metadata": {},
   "outputs": [],
   "source": []
  },
  {
   "cell_type": "markdown",
   "metadata": {},
   "source": [
    "### Open the CSV file and examine the first few.\n",
    "\n",
    "Make sure you didn't save that extra weird unnamed index column."
   ]
  },
  {
   "cell_type": "code",
   "execution_count": 89,
   "metadata": {},
   "outputs": [],
   "source": [
    "df=pd.read_csv(\"dirt_operators.csv\")\n",
    "df=df[['Operator_id','State', 'Operator_name', 'Mine_Name', 'Mine_type', 'Coal_or_Metal', 'Status', 'Commodity']]"
   ]
  },
  {
   "cell_type": "code",
   "execution_count": 90,
   "metadata": {},
   "outputs": [
    {
     "data": {
      "text/html": [
       "<div>\n",
       "<style scoped>\n",
       "    .dataframe tbody tr th:only-of-type {\n",
       "        vertical-align: middle;\n",
       "    }\n",
       "\n",
       "    .dataframe tbody tr th {\n",
       "        vertical-align: top;\n",
       "    }\n",
       "\n",
       "    .dataframe thead th {\n",
       "        text-align: right;\n",
       "    }\n",
       "</style>\n",
       "<table border=\"1\" class=\"dataframe\">\n",
       "  <thead>\n",
       "    <tr style=\"text-align: right;\">\n",
       "      <th></th>\n",
       "      <th>Operator_id</th>\n",
       "      <th>State</th>\n",
       "      <th>Operator_name</th>\n",
       "      <th>Mine_Name</th>\n",
       "      <th>Mine_type</th>\n",
       "      <th>Coal_or_Metal</th>\n",
       "      <th>Status</th>\n",
       "      <th>Commodity</th>\n",
       "    </tr>\n",
       "  </thead>\n",
       "  <tbody>\n",
       "    <tr>\n",
       "      <th>0</th>\n",
       "      <td>3503598</td>\n",
       "      <td>OR</td>\n",
       "      <td>Newberg Rock &amp; Dirt</td>\n",
       "      <td>Newberg Rock &amp; Dirt</td>\n",
       "      <td>Surface</td>\n",
       "      <td>M</td>\n",
       "      <td>Active</td>\n",
       "      <td>Crushed, Broken Stone NEC</td>\n",
       "    </tr>\n",
       "    <tr>\n",
       "      <th>1</th>\n",
       "      <td>502030</td>\n",
       "      <td>CO</td>\n",
       "      <td>Allied Dirt Moving Company</td>\n",
       "      <td>Allied Dirt Moving Co Pit &amp; Plant</td>\n",
       "      <td>Surface</td>\n",
       "      <td>M</td>\n",
       "      <td>Abandoned</td>\n",
       "      <td>Construction Sand and Gravel</td>\n",
       "    </tr>\n",
       "    <tr>\n",
       "      <th>2</th>\n",
       "      <td>4801789</td>\n",
       "      <td>ND</td>\n",
       "      <td>AM Dirtworks &amp; Aggregate Sales</td>\n",
       "      <td>AM Dirtworks &amp; Aggregate Sales</td>\n",
       "      <td>Surface</td>\n",
       "      <td>M</td>\n",
       "      <td>Abandoned</td>\n",
       "      <td>Construction Sand and Gravel</td>\n",
       "    </tr>\n",
       "    <tr>\n",
       "      <th>3</th>\n",
       "      <td>4201449</td>\n",
       "      <td>UT</td>\n",
       "      <td>Atlas-Dirty Devil Mining</td>\n",
       "      <td>Unit Train Loading Facility</td>\n",
       "      <td>Facility</td>\n",
       "      <td>C</td>\n",
       "      <td>Abandoned</td>\n",
       "      <td>Coal (Bituminous)</td>\n",
       "    </tr>\n",
       "    <tr>\n",
       "      <th>4</th>\n",
       "      <td>4201450</td>\n",
       "      <td>UT</td>\n",
       "      <td>Atlas-Dirty Devil Mining</td>\n",
       "      <td>Blackie Surface Mine &amp; Prep Plant</td>\n",
       "      <td>Surface</td>\n",
       "      <td>C</td>\n",
       "      <td>Abandoned</td>\n",
       "      <td>Coal (Bituminous)</td>\n",
       "    </tr>\n",
       "  </tbody>\n",
       "</table>\n",
       "</div>"
      ],
      "text/plain": [
       "   Operator_id State                     Operator_name  \\\n",
       "0      3503598   OR              Newberg Rock & Dirt     \n",
       "1       502030   CO       Allied Dirt Moving Company     \n",
       "2      4801789   ND   AM Dirtworks & Aggregate Sales     \n",
       "3      4201449   UT         Atlas-Dirty Devil Mining     \n",
       "4      4201450   UT         Atlas-Dirty Devil Mining     \n",
       "\n",
       "                           Mine_Name Mine_type Coal_or_Metal      Status  \\\n",
       "0                Newberg Rock & Dirt   Surface            M      Active    \n",
       "1  Allied Dirt Moving Co Pit & Plant   Surface            M   Abandoned    \n",
       "2     AM Dirtworks & Aggregate Sales   Surface            M   Abandoned    \n",
       "3        Unit Train Loading Facility  Facility            C   Abandoned    \n",
       "4  Blackie Surface Mine & Prep Plant   Surface            C   Abandoned    \n",
       "\n",
       "                       Commodity  \n",
       "0     Crushed, Broken Stone NEC   \n",
       "1  Construction Sand and Gravel   \n",
       "2  Construction Sand and Gravel   \n",
       "3             Coal (Bituminous)   \n",
       "4             Coal (Bituminous)   "
      ]
     },
     "execution_count": 90,
     "metadata": {},
     "output_type": "execute_result"
    }
   ],
   "source": [
    "df.head()"
   ]
  },
  {
   "cell_type": "code",
   "execution_count": null,
   "metadata": {},
   "outputs": [],
   "source": []
  },
  {
   "cell_type": "code",
   "execution_count": null,
   "metadata": {},
   "outputs": [],
   "source": []
  }
 ],
 "metadata": {
  "kernelspec": {
   "display_name": "Python 3",
   "language": "python",
   "name": "python3"
  },
  "language_info": {
   "codemirror_mode": {
    "name": "ipython",
    "version": 3
   },
   "file_extension": ".py",
   "mimetype": "text/x-python",
   "name": "python",
   "nbconvert_exporter": "python",
   "pygments_lexer": "ipython3",
   "version": "3.6.4"
  }
 },
 "nbformat": 4,
 "nbformat_minor": 2
}
